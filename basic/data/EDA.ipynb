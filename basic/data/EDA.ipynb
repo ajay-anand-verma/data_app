{
 "cells": [
  {
   "cell_type": "code",
   "execution_count": 1,
   "metadata": {},
   "outputs": [],
   "source": [
    "import os\n",
    "import pandas as pd"
   ]
  },
  {
   "cell_type": "code",
   "execution_count": 2,
   "metadata": {},
   "outputs": [],
   "source": [
    "DATA_DIR = \"\""
   ]
  },
  {
   "cell_type": "code",
   "execution_count": 3,
   "metadata": {},
   "outputs": [],
   "source": [
    "data = pd.read_csv('states/AP/population.csv')"
   ]
  },
  {
   "cell_type": "code",
   "execution_count": 4,
   "metadata": {},
   "outputs": [
    {
     "data": {
      "text/html": [
       "<div>\n",
       "<style scoped>\n",
       "    .dataframe tbody tr th:only-of-type {\n",
       "        vertical-align: middle;\n",
       "    }\n",
       "\n",
       "    .dataframe tbody tr th {\n",
       "        vertical-align: top;\n",
       "    }\n",
       "\n",
       "    .dataframe thead th {\n",
       "        text-align: right;\n",
       "    }\n",
       "</style>\n",
       "<table border=\"1\" class=\"dataframe\">\n",
       "  <thead>\n",
       "    <tr style=\"text-align: right;\">\n",
       "      <th></th>\n",
       "      <th>S.No</th>\n",
       "      <th>District</th>\n",
       "      <th>Headquarters</th>\n",
       "      <th>Revenue Divisions</th>\n",
       "      <th>Mandals</th>\n",
       "      <th>Population</th>\n",
       "      <th>Area</th>\n",
       "      <th>Density</th>\n",
       "    </tr>\n",
       "  </thead>\n",
       "  <tbody>\n",
       "    <tr>\n",
       "      <th>0</th>\n",
       "      <td>1</td>\n",
       "      <td>Anantapur</td>\n",
       "      <td>Anantapur</td>\n",
       "      <td>5</td>\n",
       "      <td>63</td>\n",
       "      <td>4083315</td>\n",
       "      <td>19130</td>\n",
       "      <td>213</td>\n",
       "    </tr>\n",
       "    <tr>\n",
       "      <th>1</th>\n",
       "      <td>2</td>\n",
       "      <td>Chittoor</td>\n",
       "      <td>Chittoor</td>\n",
       "      <td>3</td>\n",
       "      <td>66</td>\n",
       "      <td>4170468</td>\n",
       "      <td>15152</td>\n",
       "      <td>275</td>\n",
       "    </tr>\n",
       "    <tr>\n",
       "      <th>2</th>\n",
       "      <td>3</td>\n",
       "      <td>East Godavari</td>\n",
       "      <td>Kakinada</td>\n",
       "      <td>7</td>\n",
       "      <td>64</td>\n",
       "      <td>5151549</td>\n",
       "      <td>10807</td>\n",
       "      <td>477</td>\n",
       "    </tr>\n",
       "    <tr>\n",
       "      <th>3</th>\n",
       "      <td>4</td>\n",
       "      <td>Guntur</td>\n",
       "      <td>Guntur</td>\n",
       "      <td>4</td>\n",
       "      <td>57</td>\n",
       "      <td>4889230</td>\n",
       "      <td>11391</td>\n",
       "      <td>429</td>\n",
       "    </tr>\n",
       "    <tr>\n",
       "      <th>4</th>\n",
       "      <td>5</td>\n",
       "      <td>YSR Kadapa district</td>\n",
       "      <td>Kadapa</td>\n",
       "      <td>3</td>\n",
       "      <td>50</td>\n",
       "      <td>2884524</td>\n",
       "      <td>15359</td>\n",
       "      <td>188</td>\n",
       "    </tr>\n",
       "  </tbody>\n",
       "</table>\n",
       "</div>"
      ],
      "text/plain": [
       "   S.No             District Headquarters  Revenue Divisions  Mandals  \\\n",
       "0     1            Anantapur    Anantapur                  5       63   \n",
       "1     2             Chittoor     Chittoor                  3       66   \n",
       "2     3        East Godavari     Kakinada                  7       64   \n",
       "3     4               Guntur       Guntur                  4       57   \n",
       "4     5  YSR Kadapa district       Kadapa                  3       50   \n",
       "\n",
       "   Population   Area  Density  \n",
       "0     4083315  19130      213  \n",
       "1     4170468  15152      275  \n",
       "2     5151549  10807      477  \n",
       "3     4889230  11391      429  \n",
       "4     2884524  15359      188  "
      ]
     },
     "execution_count": 4,
     "metadata": {},
     "output_type": "execute_result"
    }
   ],
   "source": [
    "data.head()"
   ]
  },
  {
   "cell_type": "code",
   "execution_count": null,
   "metadata": {},
   "outputs": [],
   "source": []
  },
  {
   "cell_type": "code",
   "execution_count": 7,
   "metadata": {},
   "outputs": [],
   "source": [
    "data_dict = data.to_dict()"
   ]
  },
  {
   "cell_type": "code",
   "execution_count": 8,
   "metadata": {},
   "outputs": [
    {
     "data": {
      "text/plain": [
       "dict_keys(['S.No', 'District', 'Headquarters', 'Revenue Divisions', 'Mandals', 'Population', 'Area', 'Density'])"
      ]
     },
     "execution_count": 8,
     "metadata": {},
     "output_type": "execute_result"
    }
   ],
   "source": [
    "data_dict.keys()"
   ]
  },
  {
   "cell_type": "code",
   "execution_count": 10,
   "metadata": {},
   "outputs": [
    {
     "data": {
      "text/plain": [
       "'Anantapur'"
      ]
     },
     "execution_count": 10,
     "metadata": {},
     "output_type": "execute_result"
    }
   ],
   "source": [
    "data_dict['District'][0]"
   ]
  },
  {
   "cell_type": "code",
   "execution_count": null,
   "metadata": {},
   "outputs": [],
   "source": []
  },
  {
   "cell_type": "code",
   "execution_count": 24,
   "metadata": {},
   "outputs": [],
   "source": [
    "def state_data():\n",
    "    data = pd.read_csv('state_population.csv')\n",
    "    data_dict = data.to_dict()\n",
    "    content = []\n",
    "    for i in range(len(data)):\n",
    "        rec = {}\n",
    "        rec['Sr.No.'] = i+1\n",
    "        rec['State'] = data_dict['State'][i]\n",
    "        rec['Districts'] = data_dict['Districts'][i]\n",
    "        rec['Population'] = data_dict['Population'][i]\n",
    "        content.append(rec)\n",
    "    return content\n",
    "        "
   ]
  },
  {
   "cell_type": "code",
   "execution_count": 27,
   "metadata": {},
   "outputs": [],
   "source": [
    "cont = state_data()"
   ]
  },
  {
   "cell_type": "code",
   "execution_count": 28,
   "metadata": {},
   "outputs": [
    {
     "data": {
      "text/plain": [
       "{'Sr.No.': 1,\n",
       " 'State': 'Andhra Pradesh',\n",
       " 'Districts': 13,\n",
       " 'Population': 49386799}"
      ]
     },
     "execution_count": 28,
     "metadata": {},
     "output_type": "execute_result"
    }
   ],
   "source": [
    "cont[0]"
   ]
  },
  {
   "cell_type": "code",
   "execution_count": 5,
   "metadata": {},
   "outputs": [],
   "source": [
    "def state_data(state_code):\n",
    "    if state_code == None:\n",
    "        print(\"ERROR: State Code is MISSING!!!\")\n",
    "    data_file = os.path.join(DATA_DIR, 'states', state_code, 'population.csv')\n",
    "    df = pd.read_csv(data_file)\n",
    "    data_dict = df.to_dict()\n",
    "    content = []\n",
    "    for i in range(len(df)):\n",
    "        rec = {}\n",
    "        rec['ID'] = i + 1\n",
    "        rec['District'] = data_dict['District'][i]\n",
    "        rec['Area'] =   data_dict['Area'][i]\n",
    "        rec['Population'] = data_dict['Population'][i]\n",
    "        rec ['Density'] = data_dict['Density'][i]\n",
    "        content.append(rec)\n",
    "    return content"
   ]
  },
  {
   "cell_type": "code",
   "execution_count": 7,
   "metadata": {},
   "outputs": [],
   "source": [
    "res = state_data('AP')"
   ]
  },
  {
   "cell_type": "code",
   "execution_count": 9,
   "metadata": {},
   "outputs": [
    {
     "data": {
      "text/plain": [
       "{'ID': 1,\n",
       " 'District': 'Anantapur',\n",
       " 'Area': 19130,\n",
       " 'Population': 4083315,\n",
       " 'Density': 213}"
      ]
     },
     "execution_count": 9,
     "metadata": {},
     "output_type": "execute_result"
    }
   ],
   "source": [
    "res[0]"
   ]
  },
  {
   "cell_type": "code",
   "execution_count": null,
   "metadata": {},
   "outputs": [],
   "source": []
  },
  {
   "cell_type": "code",
   "execution_count": 22,
   "metadata": {},
   "outputs": [],
   "source": [
    "def state_data(state_code):\n",
    "    if state_code == None:\n",
    "        print(\"ERROR: State Code is MISSING!!!\")\n",
    "    data_file = os.path.join(DATA_DIR, 'states', state_code, 'population.csv')\n",
    "    df = pd.read_csv(data_file)\n",
    "    data_dict = df.to_dict()\n",
    "    content = []\n",
    "    for i in range(len(df)):\n",
    "        rec = {}\n",
    "        rec['ID'] = i + 1\n",
    "        rec['District'] = data_dict['District'][i]\n",
    "        rec['Area'] =   data_dict['Area'][i]\n",
    "        rec['Population'] = data_dict['Population'][i]\n",
    "        rec ['Density'] = data_dict['Density']\n",
    "        content.append(rec)\n",
    "    return content"
   ]
  },
  {
   "cell_type": "code",
   "execution_count": 29,
   "metadata": {},
   "outputs": [],
   "source": [
    "data = state_data('AP')"
   ]
  },
  {
   "cell_type": "code",
   "execution_count": 31,
   "metadata": {},
   "outputs": [
    {
     "data": {
      "text/plain": [
       "{'ID': 3,\n",
       " 'District': 'East Godavari',\n",
       " 'Area': 10807,\n",
       " 'Population': 5151549,\n",
       " 'Density': {0: 213,\n",
       "  1: 275,\n",
       "  2: 477,\n",
       "  3: 429,\n",
       "  4: 188,\n",
       "  5: 519,\n",
       "  6: 229,\n",
       "  7: 227,\n",
       "  8: 193,\n",
       "  9: 462,\n",
       "  10: 340,\n",
       "  11: 384,\n",
       "  12: 490}}"
      ]
     },
     "execution_count": 31,
     "metadata": {},
     "output_type": "execute_result"
    }
   ],
   "source": [
    "data[2]"
   ]
  },
  {
   "cell_type": "code",
   "execution_count": 34,
   "metadata": {},
   "outputs": [],
   "source": [
    "data_file = os.path.join(DATA_DIR, 'states', 'AP', 'population.csv')\n",
    "df = pd.read_csv(data_file)"
   ]
  },
  {
   "cell_type": "code",
   "execution_count": 35,
   "metadata": {},
   "outputs": [
    {
     "data": {
      "text/html": [
       "<div>\n",
       "<style scoped>\n",
       "    .dataframe tbody tr th:only-of-type {\n",
       "        vertical-align: middle;\n",
       "    }\n",
       "\n",
       "    .dataframe tbody tr th {\n",
       "        vertical-align: top;\n",
       "    }\n",
       "\n",
       "    .dataframe thead th {\n",
       "        text-align: right;\n",
       "    }\n",
       "</style>\n",
       "<table border=\"1\" class=\"dataframe\">\n",
       "  <thead>\n",
       "    <tr style=\"text-align: right;\">\n",
       "      <th></th>\n",
       "      <th>S.No</th>\n",
       "      <th>District</th>\n",
       "      <th>Headquarters</th>\n",
       "      <th>Revenue Divisions</th>\n",
       "      <th>Mandals</th>\n",
       "      <th>Population</th>\n",
       "      <th>Area</th>\n",
       "      <th>Density</th>\n",
       "    </tr>\n",
       "  </thead>\n",
       "  <tbody>\n",
       "    <tr>\n",
       "      <th>0</th>\n",
       "      <td>1</td>\n",
       "      <td>Anantapur</td>\n",
       "      <td>Anantapur</td>\n",
       "      <td>5</td>\n",
       "      <td>63</td>\n",
       "      <td>4083315</td>\n",
       "      <td>19130</td>\n",
       "      <td>213</td>\n",
       "    </tr>\n",
       "    <tr>\n",
       "      <th>1</th>\n",
       "      <td>2</td>\n",
       "      <td>Chittoor</td>\n",
       "      <td>Chittoor</td>\n",
       "      <td>3</td>\n",
       "      <td>66</td>\n",
       "      <td>4170468</td>\n",
       "      <td>15152</td>\n",
       "      <td>275</td>\n",
       "    </tr>\n",
       "    <tr>\n",
       "      <th>2</th>\n",
       "      <td>3</td>\n",
       "      <td>East Godavari</td>\n",
       "      <td>Kakinada</td>\n",
       "      <td>7</td>\n",
       "      <td>64</td>\n",
       "      <td>5151549</td>\n",
       "      <td>10807</td>\n",
       "      <td>477</td>\n",
       "    </tr>\n",
       "    <tr>\n",
       "      <th>3</th>\n",
       "      <td>4</td>\n",
       "      <td>Guntur</td>\n",
       "      <td>Guntur</td>\n",
       "      <td>4</td>\n",
       "      <td>57</td>\n",
       "      <td>4889230</td>\n",
       "      <td>11391</td>\n",
       "      <td>429</td>\n",
       "    </tr>\n",
       "    <tr>\n",
       "      <th>4</th>\n",
       "      <td>5</td>\n",
       "      <td>YSR Kadapa district</td>\n",
       "      <td>Kadapa</td>\n",
       "      <td>3</td>\n",
       "      <td>50</td>\n",
       "      <td>2884524</td>\n",
       "      <td>15359</td>\n",
       "      <td>188</td>\n",
       "    </tr>\n",
       "    <tr>\n",
       "      <th>5</th>\n",
       "      <td>6</td>\n",
       "      <td>Krishna</td>\n",
       "      <td>Machilipatnam</td>\n",
       "      <td>4</td>\n",
       "      <td>50</td>\n",
       "      <td>4529009</td>\n",
       "      <td>8727</td>\n",
       "      <td>519</td>\n",
       "    </tr>\n",
       "    <tr>\n",
       "      <th>6</th>\n",
       "      <td>7</td>\n",
       "      <td>Kurnool</td>\n",
       "      <td>Kurnool</td>\n",
       "      <td>3</td>\n",
       "      <td>54</td>\n",
       "      <td>4046601</td>\n",
       "      <td>17658</td>\n",
       "      <td>229</td>\n",
       "    </tr>\n",
       "    <tr>\n",
       "      <th>7</th>\n",
       "      <td>8</td>\n",
       "      <td>Nellore</td>\n",
       "      <td>Nellore</td>\n",
       "      <td>5</td>\n",
       "      <td>56</td>\n",
       "      <td>2966082</td>\n",
       "      <td>13076</td>\n",
       "      <td>227</td>\n",
       "    </tr>\n",
       "    <tr>\n",
       "      <th>8</th>\n",
       "      <td>9</td>\n",
       "      <td>Prakasam</td>\n",
       "      <td>Ongole</td>\n",
       "      <td>3</td>\n",
       "      <td>56</td>\n",
       "      <td>3392764</td>\n",
       "      <td>17626</td>\n",
       "      <td>193</td>\n",
       "    </tr>\n",
       "    <tr>\n",
       "      <th>9</th>\n",
       "      <td>10</td>\n",
       "      <td>Srikakulam</td>\n",
       "      <td>Srikakulam</td>\n",
       "      <td>3</td>\n",
       "      <td>37</td>\n",
       "      <td>2699471</td>\n",
       "      <td>5837</td>\n",
       "      <td>462</td>\n",
       "    </tr>\n",
       "    <tr>\n",
       "      <th>10</th>\n",
       "      <td>11</td>\n",
       "      <td>Visakhapatnam</td>\n",
       "      <td>Visakhapatnam</td>\n",
       "      <td>4</td>\n",
       "      <td>46</td>\n",
       "      <td>4288113</td>\n",
       "      <td>11161</td>\n",
       "      <td>340</td>\n",
       "    </tr>\n",
       "    <tr>\n",
       "      <th>11</th>\n",
       "      <td>12</td>\n",
       "      <td>Vizianagaram</td>\n",
       "      <td>Vizianagaram</td>\n",
       "      <td>2</td>\n",
       "      <td>34</td>\n",
       "      <td>2342868</td>\n",
       "      <td>6539</td>\n",
       "      <td>384</td>\n",
       "    </tr>\n",
       "    <tr>\n",
       "      <th>12</th>\n",
       "      <td>13</td>\n",
       "      <td>West Godavari</td>\n",
       "      <td>Eluru</td>\n",
       "      <td>4</td>\n",
       "      <td>46</td>\n",
       "      <td>3934782</td>\n",
       "      <td>7742</td>\n",
       "      <td>490</td>\n",
       "    </tr>\n",
       "  </tbody>\n",
       "</table>\n",
       "</div>"
      ],
      "text/plain": [
       "    S.No             District   Headquarters  Revenue Divisions  Mandals  \\\n",
       "0      1            Anantapur      Anantapur                  5       63   \n",
       "1      2             Chittoor       Chittoor                  3       66   \n",
       "2      3        East Godavari       Kakinada                  7       64   \n",
       "3      4               Guntur         Guntur                  4       57   \n",
       "4      5  YSR Kadapa district         Kadapa                  3       50   \n",
       "5      6              Krishna  Machilipatnam                  4       50   \n",
       "6      7              Kurnool        Kurnool                  3       54   \n",
       "7      8              Nellore        Nellore                  5       56   \n",
       "8      9             Prakasam         Ongole                  3       56   \n",
       "9     10           Srikakulam     Srikakulam                  3       37   \n",
       "10    11        Visakhapatnam  Visakhapatnam                  4       46   \n",
       "11    12         Vizianagaram   Vizianagaram                  2       34   \n",
       "12    13        West Godavari          Eluru                  4       46   \n",
       "\n",
       "    Population   Area  Density  \n",
       "0      4083315  19130      213  \n",
       "1      4170468  15152      275  \n",
       "2      5151549  10807      477  \n",
       "3      4889230  11391      429  \n",
       "4      2884524  15359      188  \n",
       "5      4529009   8727      519  \n",
       "6      4046601  17658      229  \n",
       "7      2966082  13076      227  \n",
       "8      3392764  17626      193  \n",
       "9      2699471   5837      462  \n",
       "10     4288113  11161      340  \n",
       "11     2342868   6539      384  \n",
       "12     3934782   7742      490  "
      ]
     },
     "execution_count": 35,
     "metadata": {},
     "output_type": "execute_result"
    }
   ],
   "source": [
    "df"
   ]
  },
  {
   "cell_type": "code",
   "execution_count": 37,
   "metadata": {},
   "outputs": [],
   "source": [
    "data_dict = df.to_dict()\n",
    "content = []"
   ]
  },
  {
   "cell_type": "code",
   "execution_count": 39,
   "metadata": {},
   "outputs": [
    {
     "data": {
      "text/plain": [
       "dict_keys(['S.No', 'District', 'Headquarters', 'Revenue Divisions', 'Mandals', 'Population', 'Area', 'Density'])"
      ]
     },
     "execution_count": 39,
     "metadata": {},
     "output_type": "execute_result"
    }
   ],
   "source": [
    "data_dict.keys()"
   ]
  },
  {
   "cell_type": "code",
   "execution_count": 47,
   "metadata": {},
   "outputs": [
    {
     "data": {
      "text/plain": [
       "{0: 213,\n",
       " 1: 275,\n",
       " 2: 477,\n",
       " 3: 429,\n",
       " 4: 188,\n",
       " 5: 519,\n",
       " 6: 229,\n",
       " 7: 227,\n",
       " 8: 193,\n",
       " 9: 462,\n",
       " 10: 340,\n",
       " 11: 384,\n",
       " 12: 490}"
      ]
     },
     "execution_count": 47,
     "metadata": {},
     "output_type": "execute_result"
    }
   ],
   "source": [
    "data_dict['Density']"
   ]
  },
  {
   "cell_type": "code",
   "execution_count": null,
   "metadata": {},
   "outputs": [],
   "source": []
  }
 ],
 "metadata": {
  "kernelspec": {
   "display_name": "Python 3",
   "language": "python",
   "name": "python3"
  },
  "language_info": {
   "codemirror_mode": {
    "name": "ipython",
    "version": 3
   },
   "file_extension": ".py",
   "mimetype": "text/x-python",
   "name": "python",
   "nbconvert_exporter": "python",
   "pygments_lexer": "ipython3",
   "version": "3.6.9"
  }
 },
 "nbformat": 4,
 "nbformat_minor": 4
}
